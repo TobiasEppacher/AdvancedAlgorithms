{
 "cells": [
  {
   "cell_type": "markdown",
   "metadata": {},
   "source": [
    "# Sheet 1\n",
    "\n",
    "## Problem 1\n",
    "\n",
    "### Part a\n",
    "\n",
    "- unsorted array of size $n$\n",
    "- $2n$ comparisons"
   ]
  },
  {
   "cell_type": "code",
   "execution_count": null,
   "metadata": {},
   "outputs": [],
   "source": [
    "def findMinMax1(arr):\n",
    "    min = arr[0]\n",
    "    max = arr[0]\n",
    "    for i in range(1, len(arr)):\n",
    "        if arr[i] < min:\n",
    "            min = arr[i]\n",
    "        elif arr[i] > max:\n",
    "            max = arr[i]\n",
    "    return min, max"
   ]
  },
  {
   "cell_type": "markdown",
   "metadata": {},
   "source": [
    "### Part b\n",
    "\n",
    "- unsorted array of size $n$\n",
    "- $\\frac{3}{2}n - 2$ comparisons"
   ]
  },
  {
   "cell_type": "code",
   "execution_count": null,
   "metadata": {},
   "outputs": [],
   "source": [
    "def findMinMax2(arr):\n",
    "    if (len(arr) <= 2):\n",
    "        if (arr[0] < arr[1]):\n",
    "            return arr[0], arr[1]\n",
    "        else:\n",
    "            return arr[1], arr[0]\n",
    "    else:\n",
    "        mid = len(arr) // 2\n",
    "        min1, max1 = findMinMax2(arr[:mid])\n",
    "        min2, max2 = findMinMax2(arr[mid:])\n",
    "        return min(min1, min2), max(max1, max2)"
   ]
  },
  {
   "cell_type": "markdown",
   "metadata": {},
   "source": [
    "### Part c\n",
    "\n",
    "- Circularly shifted, sorted array\n",
    "- $log_2(n)$ comparisons"
   ]
  },
  {
   "cell_type": "code",
   "execution_count": null,
   "metadata": {},
   "outputs": [],
   "source": [
    "import numpy as np\n",
    "from collections import deque\n",
    "\n",
    "def findMinMax3(arr):\n",
    "    # 1 Comparison for edge case (sorted array)\n",
    "    if(arr[0] < arr[-1]):\n",
    "        return arr[0], arr[-1]\n",
    "    \n",
    "    # 2 comparisons for each recursive call\n",
    "    def helper(arr):\n",
    "        if(len(arr) <= 2):\n",
    "            return arr[1], arr[0]\n",
    "        \n",
    "        # array is split in half each call\n",
    "        mid = len(arr) // 2\n",
    "        if(arr[0] > arr[mid]):\n",
    "            return helper(arr[:mid+1])\n",
    "        else:\n",
    "            return helper(arr[mid:])\n",
    "        \n",
    "    return helper(arr)\n",
    "\n",
    "\n",
    "# Test with all possible shifts of sorted array with same but selectable length\n",
    "arrLength = 1000\n",
    "base = deque(np.arange(arrLength))\n",
    "for i in range(arrLength):\n",
    "    print(i)\n",
    "    base.rotate(1)\n",
    "    testArr = np.array(base)\n",
    "    min, max = findMinMax3(testArr)\n",
    "    if(min != 0 or max != arrLength - 1):\n",
    "        print(\"Error: \", min, max)\n",
    "        break\n",
    "print(\"Correct\")\n"
   ]
  },
  {
   "cell_type": "markdown",
   "metadata": {},
   "source": [
    "## Problem 2\n",
    "\n",
    "- Count inversions in array"
   ]
  },
  {
   "cell_type": "code",
   "execution_count": null,
   "metadata": {},
   "outputs": [],
   "source": []
  }
 ],
 "metadata": {
  "kernelspec": {
   "display_name": "Python 3",
   "language": "python",
   "name": "python3"
  },
  "language_info": {
   "codemirror_mode": {
    "name": "ipython",
    "version": 3
   },
   "file_extension": ".py",
   "mimetype": "text/x-python",
   "name": "python",
   "nbconvert_exporter": "python",
   "pygments_lexer": "ipython3",
   "version": "3.10.12"
  }
 },
 "nbformat": 4,
 "nbformat_minor": 2
}

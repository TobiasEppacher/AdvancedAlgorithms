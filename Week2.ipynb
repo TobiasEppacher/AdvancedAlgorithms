{
 "cells": [
  {
   "cell_type": "markdown",
   "metadata": {},
   "source": [
    "# Sheet 2\n",
    "\n",
    "## Exercise 1\n",
    "\n",
    "### Problem 1\n",
    "\n",
    "- Product of two linear polynomials using only three multiplications\n",
    "- $(px + r)(qx + s)$"
   ]
  },
  {
   "cell_type": "code",
   "execution_count": null,
   "metadata": {},
   "outputs": [],
   "source": [
    "# Polynomial interpreted as tuple of coefficients (c_0, c_1, ..., c_n)\n",
    "p1 = (4, 2)\n",
    "p2 = (7, 3)\n",
    "\n",
    "# Solution of (2x + 4) * (3x + 7) = 6x^2 + 26x + 28\n",
    "sol = (28, 26, 6)\n",
    "\n",
    "def mul(p1, p2):\n",
    "    sum_c = (p1[0] + p1[1]) * (p2[0] + p2[1])\n",
    "    c_0 = p1[0] * p2[0]\n",
    "    c_2 = p1[1] * p2[1]\n",
    "    c_1 = sum_c - c_0 - c_2\n",
    "    return (c_0, c_1, c_2)\n",
    "\n",
    "print(mul(p1, p2) == sol)"
   ]
  },
  {
   "cell_type": "markdown",
   "metadata": {},
   "source": [
    "### Problem 2\n",
    "\n",
    "Divide and conquer algorithm for multiplication of two polynomials of degree $\\leq n$ in time $\\mathcal{O}(n^{\\log_2{3}})$"
   ]
  }
 ],
 "metadata": {
  "kernelspec": {
   "display_name": "Python 3",
   "language": "python",
   "name": "python3"
  },
  "language_info": {
   "codemirror_mode": {
    "name": "ipython",
    "version": 3
   },
   "file_extension": ".py",
   "mimetype": "text/x-python",
   "name": "python",
   "nbconvert_exporter": "python",
   "pygments_lexer": "ipython3",
   "version": "3.10.6"
  }
 },
 "nbformat": 4,
 "nbformat_minor": 2
}
